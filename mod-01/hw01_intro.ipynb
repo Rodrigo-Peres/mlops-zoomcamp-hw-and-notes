{
 "cells": [
  {
   "cell_type": "markdown",
   "id": "150afd57",
   "metadata": {},
   "source": [
    "# MLOps Zoomcamp Homework 1\n",
    "\n",
    "The goal of this homework is to train a simple model for predicting the duration of a ride."
   ]
  },
  {
   "cell_type": "code",
   "execution_count": 1,
   "id": "e7c35378",
   "metadata": {},
   "outputs": [],
   "source": [
    "#!pip install pyarrow"
   ]
  },
  {
   "cell_type": "code",
   "execution_count": 2,
   "id": "1c1880d3",
   "metadata": {},
   "outputs": [],
   "source": [
    "import pandas as pd\n",
    "import pickle\n",
    "import numpy as np\n",
    "import seaborn as sns\n",
    "import matplotlib.pyplot as plt\n",
    "\n",
    "from sklearn.feature_extraction import DictVectorizer\n",
    "from sklearn.linear_model import LinearRegression\n",
    "from sklearn.metrics import mean_squared_error"
   ]
  },
  {
   "cell_type": "code",
   "execution_count": 3,
   "id": "0fc2bc7b",
   "metadata": {
    "scrolled": true
   },
   "outputs": [
    {
     "name": "stdout",
     "output_type": "stream",
     "text": [
      "<class 'pandas.core.frame.DataFrame'>\n",
      "RangeIndex: 1154112 entries, 0 to 1154111\n",
      "Data columns (total 7 columns):\n",
      " #   Column                  Non-Null Count    Dtype         \n",
      "---  ------                  --------------    -----         \n",
      " 0   dispatching_base_num    1154112 non-null  object        \n",
      " 1   pickup_datetime         1154112 non-null  datetime64[ns]\n",
      " 2   dropOff_datetime        1154112 non-null  datetime64[ns]\n",
      " 3   PUlocationID            195845 non-null   float64       \n",
      " 4   DOlocationID            991892 non-null   float64       \n",
      " 5   SR_Flag                 0 non-null        object        \n",
      " 6   Affiliated_base_number  1153227 non-null  object        \n",
      "dtypes: datetime64[ns](2), float64(2), object(3)\n",
      "memory usage: 61.6+ MB\n"
     ]
    }
   ],
   "source": [
    "df1 = pd.read_parquet('/home/rodrigoperes/notebooks/data/fhv_tripdata_2021-01.parquet')\n",
    "df1.info()"
   ]
  },
  {
   "cell_type": "markdown",
   "id": "e6421bad",
   "metadata": {},
   "source": [
    "#### Q1. Downloading the data\n",
    "\n",
    "We'll use the same NYC taxi dataset, but instead of \"Green Taxi Trip Records\", we'll use \"For-Hire Vehicle Trip Records\".\n",
    "\n",
    "Download the data for January and February 2021.\n",
    "\n",
    "Note that you need \"For-Hire Vehicle Trip Records\", not \"High Volume For-Hire Vehicle Trip Records\".\n",
    "\n",
    "Read the data for January. How many records are there?"
   ]
  },
  {
   "cell_type": "code",
   "execution_count": 4,
   "id": "974daa94",
   "metadata": {},
   "outputs": [
    {
     "data": {
      "text/plain": [
       "(1154112, 7)"
      ]
     },
     "execution_count": 4,
     "metadata": {},
     "output_type": "execute_result"
    }
   ],
   "source": [
    "df1.shape"
   ]
  },
  {
   "cell_type": "markdown",
   "id": "ee206226",
   "metadata": {},
   "source": [
    "#### Q2. Computing duration\n",
    "\n",
    "Now let's compute the duration variable. It should contain the duration of a ride in minutes.\n",
    "\n",
    "What's the average trip duration in January?"
   ]
  },
  {
   "cell_type": "code",
   "execution_count": 5,
   "id": "d5966e1d",
   "metadata": {},
   "outputs": [],
   "source": [
    "df1['duration'] = df1['dropOff_datetime'] - df1['pickup_datetime']\n",
    "df1['duration'] = df1['duration'].apply(lambda td: td.total_seconds() / 60)"
   ]
  },
  {
   "cell_type": "code",
   "execution_count": 6,
   "id": "c1dba9ce",
   "metadata": {},
   "outputs": [
    {
     "data": {
      "text/plain": [
       "19.1672240937939"
      ]
     },
     "execution_count": 6,
     "metadata": {},
     "output_type": "execute_result"
    }
   ],
   "source": [
    "df1['duration'].mean()"
   ]
  },
  {
   "cell_type": "code",
   "execution_count": 7,
   "id": "c2c85154",
   "metadata": {},
   "outputs": [
    {
     "data": {
      "text/plain": [
       "(1109826, 8)"
      ]
     },
     "execution_count": 7,
     "metadata": {},
     "output_type": "execute_result"
    }
   ],
   "source": [
    "df1 = df1[(df1.duration >= 1) & (df1.duration <= 60)]\n",
    "df1.shape"
   ]
  },
  {
   "cell_type": "code",
   "execution_count": 8,
   "id": "b37ab016",
   "metadata": {},
   "outputs": [
    {
     "data": {
      "text/plain": [
       "44286"
      ]
     },
     "execution_count": 8,
     "metadata": {},
     "output_type": "execute_result"
    }
   ],
   "source": [
    "1154112 - 1109826"
   ]
  },
  {
   "cell_type": "markdown",
   "id": "74998bb2",
   "metadata": {},
   "source": [
    "#### Q3. Missing values\n",
    "\n",
    "The features we'll use for our model are the pickup and dropoff location IDs.\n",
    "\n",
    "But they have a lot of missing values there. Let's replace them with \"-1\".\n",
    "\n",
    "What's the fractions of missing values for the pickup location ID? I.e. fraction of \"-1\"s after you filled the NAs."
   ]
  },
  {
   "cell_type": "code",
   "execution_count": 9,
   "id": "38ed208b",
   "metadata": {},
   "outputs": [],
   "source": [
    "df1['PUlocationID'].fillna(\"-1\", inplace=True)\n",
    "df1['DOlocationID'].fillna(\"-1\", inplace=True)"
   ]
  },
  {
   "cell_type": "code",
   "execution_count": 10,
   "id": "4ea5ec82",
   "metadata": {},
   "outputs": [
    {
     "data": {
      "text/plain": [
       "(1109826, 8)"
      ]
     },
     "execution_count": 10,
     "metadata": {},
     "output_type": "execute_result"
    }
   ],
   "source": [
    "df1.shape"
   ]
  },
  {
   "cell_type": "code",
   "execution_count": 11,
   "id": "6ceae088",
   "metadata": {},
   "outputs": [
    {
     "data": {
      "text/plain": [
       "(927008, 8)"
      ]
     },
     "execution_count": 11,
     "metadata": {},
     "output_type": "execute_result"
    }
   ],
   "source": [
    "df1[df1['PUlocationID'] == '-1'].shape"
   ]
  },
  {
   "cell_type": "code",
   "execution_count": 12,
   "id": "08cdf5d1",
   "metadata": {
    "scrolled": true
   },
   "outputs": [
    {
     "data": {
      "text/plain": [
       "83.52732770722618"
      ]
     },
     "execution_count": 12,
     "metadata": {},
     "output_type": "execute_result"
    }
   ],
   "source": [
    "100 * df1[df1['PUlocationID'] == '-1'].shape[0] / df1.shape[0]"
   ]
  },
  {
   "cell_type": "code",
   "execution_count": 13,
   "id": "66157e56",
   "metadata": {},
   "outputs": [],
   "source": [
    "categorical = ['PUlocationID', 'DOlocationID']"
   ]
  },
  {
   "cell_type": "code",
   "execution_count": 14,
   "id": "7bfb5c7a",
   "metadata": {
    "scrolled": true
   },
   "outputs": [
    {
     "data": {
      "text/plain": [
       "-1       927008\n",
       "221.0      8330\n",
       "206.0      6797\n",
       "129.0      5379\n",
       "115.0      4082\n",
       "          ...  \n",
       "111.0         5\n",
       "27.0          4\n",
       "34.0          3\n",
       "2.0           2\n",
       "110.0         1\n",
       "Name: PUlocationID, Length: 262, dtype: int64"
      ]
     },
     "execution_count": 14,
     "metadata": {},
     "output_type": "execute_result"
    }
   ],
   "source": [
    "df1['PUlocationID'].value_counts(dropna=False)"
   ]
  },
  {
   "cell_type": "code",
   "execution_count": 15,
   "id": "ea672bf4",
   "metadata": {
    "scrolled": false
   },
   "outputs": [
    {
     "data": {
      "text/plain": [
       "-1       147907\n",
       "76.0      26375\n",
       "217.0     19488\n",
       "265.0     18628\n",
       "17.0      18422\n",
       "          ...  \n",
       "27.0         18\n",
       "30.0         13\n",
       "2.0          11\n",
       "105.0         4\n",
       "199.0         1\n",
       "Name: DOlocationID, Length: 263, dtype: int64"
      ]
     },
     "execution_count": 15,
     "metadata": {},
     "output_type": "execute_result"
    }
   ],
   "source": [
    "df1['DOlocationID'].value_counts(dropna=False)"
   ]
  },
  {
   "cell_type": "markdown",
   "id": "9beb62e2",
   "metadata": {},
   "source": [
    "#### Q4. One-hot encoding\n",
    "\n",
    "Let's apply one-hot encoding to the pickup and dropoff location IDs. We'll use only these two features for our model.\n",
    "\n",
    "- Turn the dataframe into a list of dictionaries\n",
    "- Fit a dictionary vectorizer\n",
    "- Get a feature matrix from it\n",
    "\n",
    "What's the dimensionality of this matrix? (The number of columns)."
   ]
  },
  {
   "cell_type": "code",
   "execution_count": 16,
   "id": "8f7a488a",
   "metadata": {},
   "outputs": [],
   "source": [
    "df1[categorical] = df1[categorical].astype(str)"
   ]
  },
  {
   "cell_type": "code",
   "execution_count": 17,
   "id": "7910235d",
   "metadata": {},
   "outputs": [],
   "source": [
    "train_dicts = df1[categorical].to_dict(orient='records')\n",
    "\n",
    "dv = DictVectorizer()\n",
    "X_train = dv.fit_transform(train_dicts)"
   ]
  },
  {
   "cell_type": "code",
   "execution_count": 18,
   "id": "7dee8502",
   "metadata": {},
   "outputs": [
    {
     "data": {
      "text/plain": [
       "<1109826x525 sparse matrix of type '<class 'numpy.float64'>'\n",
       "\twith 2219652 stored elements in Compressed Sparse Row format>"
      ]
     },
     "execution_count": 18,
     "metadata": {},
     "output_type": "execute_result"
    }
   ],
   "source": [
    "X_train"
   ]
  },
  {
   "cell_type": "code",
   "execution_count": 19,
   "id": "e630bae1",
   "metadata": {},
   "outputs": [
    {
     "data": {
      "text/plain": [
       "['DOlocationID=-1',\n",
       " 'DOlocationID=1.0',\n",
       " 'DOlocationID=10.0',\n",
       " 'DOlocationID=100.0',\n",
       " 'DOlocationID=101.0',\n",
       " 'DOlocationID=102.0',\n",
       " 'DOlocationID=105.0',\n",
       " 'DOlocationID=106.0',\n",
       " 'DOlocationID=107.0',\n",
       " 'DOlocationID=108.0',\n",
       " 'DOlocationID=109.0',\n",
       " 'DOlocationID=11.0',\n",
       " 'DOlocationID=111.0',\n",
       " 'DOlocationID=112.0',\n",
       " 'DOlocationID=113.0',\n",
       " 'DOlocationID=114.0',\n",
       " 'DOlocationID=115.0',\n",
       " 'DOlocationID=116.0',\n",
       " 'DOlocationID=117.0',\n",
       " 'DOlocationID=118.0',\n",
       " 'DOlocationID=119.0',\n",
       " 'DOlocationID=12.0',\n",
       " 'DOlocationID=120.0',\n",
       " 'DOlocationID=121.0',\n",
       " 'DOlocationID=122.0',\n",
       " 'DOlocationID=123.0',\n",
       " 'DOlocationID=124.0',\n",
       " 'DOlocationID=125.0',\n",
       " 'DOlocationID=126.0',\n",
       " 'DOlocationID=127.0',\n",
       " 'DOlocationID=128.0',\n",
       " 'DOlocationID=129.0',\n",
       " 'DOlocationID=13.0',\n",
       " 'DOlocationID=130.0',\n",
       " 'DOlocationID=131.0',\n",
       " 'DOlocationID=132.0',\n",
       " 'DOlocationID=133.0',\n",
       " 'DOlocationID=134.0',\n",
       " 'DOlocationID=135.0',\n",
       " 'DOlocationID=136.0',\n",
       " 'DOlocationID=137.0',\n",
       " 'DOlocationID=138.0',\n",
       " 'DOlocationID=139.0',\n",
       " 'DOlocationID=14.0',\n",
       " 'DOlocationID=140.0',\n",
       " 'DOlocationID=141.0',\n",
       " 'DOlocationID=142.0',\n",
       " 'DOlocationID=143.0',\n",
       " 'DOlocationID=144.0',\n",
       " 'DOlocationID=145.0',\n",
       " 'DOlocationID=146.0',\n",
       " 'DOlocationID=147.0',\n",
       " 'DOlocationID=148.0',\n",
       " 'DOlocationID=149.0',\n",
       " 'DOlocationID=15.0',\n",
       " 'DOlocationID=150.0',\n",
       " 'DOlocationID=151.0',\n",
       " 'DOlocationID=152.0',\n",
       " 'DOlocationID=153.0',\n",
       " 'DOlocationID=154.0',\n",
       " 'DOlocationID=155.0',\n",
       " 'DOlocationID=156.0',\n",
       " 'DOlocationID=157.0',\n",
       " 'DOlocationID=158.0',\n",
       " 'DOlocationID=159.0',\n",
       " 'DOlocationID=16.0',\n",
       " 'DOlocationID=160.0',\n",
       " 'DOlocationID=161.0',\n",
       " 'DOlocationID=162.0',\n",
       " 'DOlocationID=163.0',\n",
       " 'DOlocationID=164.0',\n",
       " 'DOlocationID=165.0',\n",
       " 'DOlocationID=166.0',\n",
       " 'DOlocationID=167.0',\n",
       " 'DOlocationID=168.0',\n",
       " 'DOlocationID=169.0',\n",
       " 'DOlocationID=17.0',\n",
       " 'DOlocationID=170.0',\n",
       " 'DOlocationID=171.0',\n",
       " 'DOlocationID=172.0',\n",
       " 'DOlocationID=173.0',\n",
       " 'DOlocationID=174.0',\n",
       " 'DOlocationID=175.0',\n",
       " 'DOlocationID=176.0',\n",
       " 'DOlocationID=177.0',\n",
       " 'DOlocationID=178.0',\n",
       " 'DOlocationID=179.0',\n",
       " 'DOlocationID=18.0',\n",
       " 'DOlocationID=180.0',\n",
       " 'DOlocationID=181.0',\n",
       " 'DOlocationID=182.0',\n",
       " 'DOlocationID=183.0',\n",
       " 'DOlocationID=184.0',\n",
       " 'DOlocationID=185.0',\n",
       " 'DOlocationID=186.0',\n",
       " 'DOlocationID=187.0',\n",
       " 'DOlocationID=188.0',\n",
       " 'DOlocationID=189.0',\n",
       " 'DOlocationID=19.0',\n",
       " 'DOlocationID=190.0',\n",
       " 'DOlocationID=191.0',\n",
       " 'DOlocationID=192.0',\n",
       " 'DOlocationID=193.0',\n",
       " 'DOlocationID=194.0',\n",
       " 'DOlocationID=195.0',\n",
       " 'DOlocationID=196.0',\n",
       " 'DOlocationID=197.0',\n",
       " 'DOlocationID=198.0',\n",
       " 'DOlocationID=199.0',\n",
       " 'DOlocationID=2.0',\n",
       " 'DOlocationID=20.0',\n",
       " 'DOlocationID=200.0',\n",
       " 'DOlocationID=201.0',\n",
       " 'DOlocationID=202.0',\n",
       " 'DOlocationID=203.0',\n",
       " 'DOlocationID=204.0',\n",
       " 'DOlocationID=205.0',\n",
       " 'DOlocationID=206.0',\n",
       " 'DOlocationID=207.0',\n",
       " 'DOlocationID=208.0',\n",
       " 'DOlocationID=209.0',\n",
       " 'DOlocationID=21.0',\n",
       " 'DOlocationID=210.0',\n",
       " 'DOlocationID=211.0',\n",
       " 'DOlocationID=212.0',\n",
       " 'DOlocationID=213.0',\n",
       " 'DOlocationID=214.0',\n",
       " 'DOlocationID=215.0',\n",
       " 'DOlocationID=216.0',\n",
       " 'DOlocationID=217.0',\n",
       " 'DOlocationID=218.0',\n",
       " 'DOlocationID=219.0',\n",
       " 'DOlocationID=22.0',\n",
       " 'DOlocationID=220.0',\n",
       " 'DOlocationID=221.0',\n",
       " 'DOlocationID=222.0',\n",
       " 'DOlocationID=223.0',\n",
       " 'DOlocationID=224.0',\n",
       " 'DOlocationID=225.0',\n",
       " 'DOlocationID=226.0',\n",
       " 'DOlocationID=227.0',\n",
       " 'DOlocationID=228.0',\n",
       " 'DOlocationID=229.0',\n",
       " 'DOlocationID=23.0',\n",
       " 'DOlocationID=230.0',\n",
       " 'DOlocationID=231.0',\n",
       " 'DOlocationID=232.0',\n",
       " 'DOlocationID=233.0',\n",
       " 'DOlocationID=234.0',\n",
       " 'DOlocationID=235.0',\n",
       " 'DOlocationID=236.0',\n",
       " 'DOlocationID=237.0',\n",
       " 'DOlocationID=238.0',\n",
       " 'DOlocationID=239.0',\n",
       " 'DOlocationID=24.0',\n",
       " 'DOlocationID=240.0',\n",
       " 'DOlocationID=241.0',\n",
       " 'DOlocationID=242.0',\n",
       " 'DOlocationID=243.0',\n",
       " 'DOlocationID=244.0',\n",
       " 'DOlocationID=245.0',\n",
       " 'DOlocationID=246.0',\n",
       " 'DOlocationID=247.0',\n",
       " 'DOlocationID=248.0',\n",
       " 'DOlocationID=249.0',\n",
       " 'DOlocationID=25.0',\n",
       " 'DOlocationID=250.0',\n",
       " 'DOlocationID=251.0',\n",
       " 'DOlocationID=252.0',\n",
       " 'DOlocationID=253.0',\n",
       " 'DOlocationID=254.0',\n",
       " 'DOlocationID=255.0',\n",
       " 'DOlocationID=256.0',\n",
       " 'DOlocationID=257.0',\n",
       " 'DOlocationID=258.0',\n",
       " 'DOlocationID=259.0',\n",
       " 'DOlocationID=26.0',\n",
       " 'DOlocationID=260.0',\n",
       " 'DOlocationID=261.0',\n",
       " 'DOlocationID=262.0',\n",
       " 'DOlocationID=263.0',\n",
       " 'DOlocationID=264.0',\n",
       " 'DOlocationID=265.0',\n",
       " 'DOlocationID=27.0',\n",
       " 'DOlocationID=28.0',\n",
       " 'DOlocationID=29.0',\n",
       " 'DOlocationID=3.0',\n",
       " 'DOlocationID=30.0',\n",
       " 'DOlocationID=31.0',\n",
       " 'DOlocationID=32.0',\n",
       " 'DOlocationID=33.0',\n",
       " 'DOlocationID=34.0',\n",
       " 'DOlocationID=35.0',\n",
       " 'DOlocationID=36.0',\n",
       " 'DOlocationID=37.0',\n",
       " 'DOlocationID=38.0',\n",
       " 'DOlocationID=39.0',\n",
       " 'DOlocationID=4.0',\n",
       " 'DOlocationID=40.0',\n",
       " 'DOlocationID=41.0',\n",
       " 'DOlocationID=42.0',\n",
       " 'DOlocationID=43.0',\n",
       " 'DOlocationID=44.0',\n",
       " 'DOlocationID=45.0',\n",
       " 'DOlocationID=46.0',\n",
       " 'DOlocationID=47.0',\n",
       " 'DOlocationID=48.0',\n",
       " 'DOlocationID=49.0',\n",
       " 'DOlocationID=5.0',\n",
       " 'DOlocationID=50.0',\n",
       " 'DOlocationID=51.0',\n",
       " 'DOlocationID=52.0',\n",
       " 'DOlocationID=53.0',\n",
       " 'DOlocationID=54.0',\n",
       " 'DOlocationID=55.0',\n",
       " 'DOlocationID=56.0',\n",
       " 'DOlocationID=57.0',\n",
       " 'DOlocationID=58.0',\n",
       " 'DOlocationID=59.0',\n",
       " 'DOlocationID=6.0',\n",
       " 'DOlocationID=60.0',\n",
       " 'DOlocationID=61.0',\n",
       " 'DOlocationID=62.0',\n",
       " 'DOlocationID=63.0',\n",
       " 'DOlocationID=64.0',\n",
       " 'DOlocationID=65.0',\n",
       " 'DOlocationID=66.0',\n",
       " 'DOlocationID=67.0',\n",
       " 'DOlocationID=68.0',\n",
       " 'DOlocationID=69.0',\n",
       " 'DOlocationID=7.0',\n",
       " 'DOlocationID=70.0',\n",
       " 'DOlocationID=71.0',\n",
       " 'DOlocationID=72.0',\n",
       " 'DOlocationID=73.0',\n",
       " 'DOlocationID=74.0',\n",
       " 'DOlocationID=75.0',\n",
       " 'DOlocationID=76.0',\n",
       " 'DOlocationID=77.0',\n",
       " 'DOlocationID=78.0',\n",
       " 'DOlocationID=79.0',\n",
       " 'DOlocationID=8.0',\n",
       " 'DOlocationID=80.0',\n",
       " 'DOlocationID=81.0',\n",
       " 'DOlocationID=82.0',\n",
       " 'DOlocationID=83.0',\n",
       " 'DOlocationID=84.0',\n",
       " 'DOlocationID=85.0',\n",
       " 'DOlocationID=86.0',\n",
       " 'DOlocationID=87.0',\n",
       " 'DOlocationID=88.0',\n",
       " 'DOlocationID=89.0',\n",
       " 'DOlocationID=9.0',\n",
       " 'DOlocationID=90.0',\n",
       " 'DOlocationID=91.0',\n",
       " 'DOlocationID=92.0',\n",
       " 'DOlocationID=93.0',\n",
       " 'DOlocationID=94.0',\n",
       " 'DOlocationID=95.0',\n",
       " 'DOlocationID=96.0',\n",
       " 'DOlocationID=97.0',\n",
       " 'DOlocationID=98.0',\n",
       " 'DOlocationID=99.0',\n",
       " 'PUlocationID=-1',\n",
       " 'PUlocationID=1.0',\n",
       " 'PUlocationID=10.0',\n",
       " 'PUlocationID=100.0',\n",
       " 'PUlocationID=101.0',\n",
       " 'PUlocationID=102.0',\n",
       " 'PUlocationID=106.0',\n",
       " 'PUlocationID=107.0',\n",
       " 'PUlocationID=108.0',\n",
       " 'PUlocationID=109.0',\n",
       " 'PUlocationID=11.0',\n",
       " 'PUlocationID=110.0',\n",
       " 'PUlocationID=111.0',\n",
       " 'PUlocationID=112.0',\n",
       " 'PUlocationID=113.0',\n",
       " 'PUlocationID=114.0',\n",
       " 'PUlocationID=115.0',\n",
       " 'PUlocationID=116.0',\n",
       " 'PUlocationID=117.0',\n",
       " 'PUlocationID=118.0',\n",
       " 'PUlocationID=119.0',\n",
       " 'PUlocationID=12.0',\n",
       " 'PUlocationID=120.0',\n",
       " 'PUlocationID=121.0',\n",
       " 'PUlocationID=122.0',\n",
       " 'PUlocationID=123.0',\n",
       " 'PUlocationID=124.0',\n",
       " 'PUlocationID=125.0',\n",
       " 'PUlocationID=126.0',\n",
       " 'PUlocationID=127.0',\n",
       " 'PUlocationID=128.0',\n",
       " 'PUlocationID=129.0',\n",
       " 'PUlocationID=13.0',\n",
       " 'PUlocationID=130.0',\n",
       " 'PUlocationID=131.0',\n",
       " 'PUlocationID=132.0',\n",
       " 'PUlocationID=133.0',\n",
       " 'PUlocationID=134.0',\n",
       " 'PUlocationID=135.0',\n",
       " 'PUlocationID=136.0',\n",
       " 'PUlocationID=137.0',\n",
       " 'PUlocationID=138.0',\n",
       " 'PUlocationID=139.0',\n",
       " 'PUlocationID=14.0',\n",
       " 'PUlocationID=140.0',\n",
       " 'PUlocationID=141.0',\n",
       " 'PUlocationID=142.0',\n",
       " 'PUlocationID=143.0',\n",
       " 'PUlocationID=144.0',\n",
       " 'PUlocationID=145.0',\n",
       " 'PUlocationID=146.0',\n",
       " 'PUlocationID=147.0',\n",
       " 'PUlocationID=148.0',\n",
       " 'PUlocationID=149.0',\n",
       " 'PUlocationID=15.0',\n",
       " 'PUlocationID=150.0',\n",
       " 'PUlocationID=151.0',\n",
       " 'PUlocationID=152.0',\n",
       " 'PUlocationID=153.0',\n",
       " 'PUlocationID=154.0',\n",
       " 'PUlocationID=155.0',\n",
       " 'PUlocationID=156.0',\n",
       " 'PUlocationID=157.0',\n",
       " 'PUlocationID=158.0',\n",
       " 'PUlocationID=159.0',\n",
       " 'PUlocationID=16.0',\n",
       " 'PUlocationID=160.0',\n",
       " 'PUlocationID=161.0',\n",
       " 'PUlocationID=162.0',\n",
       " 'PUlocationID=163.0',\n",
       " 'PUlocationID=164.0',\n",
       " 'PUlocationID=165.0',\n",
       " 'PUlocationID=166.0',\n",
       " 'PUlocationID=167.0',\n",
       " 'PUlocationID=168.0',\n",
       " 'PUlocationID=169.0',\n",
       " 'PUlocationID=17.0',\n",
       " 'PUlocationID=170.0',\n",
       " 'PUlocationID=171.0',\n",
       " 'PUlocationID=172.0',\n",
       " 'PUlocationID=173.0',\n",
       " 'PUlocationID=174.0',\n",
       " 'PUlocationID=175.0',\n",
       " 'PUlocationID=176.0',\n",
       " 'PUlocationID=177.0',\n",
       " 'PUlocationID=178.0',\n",
       " 'PUlocationID=179.0',\n",
       " 'PUlocationID=18.0',\n",
       " 'PUlocationID=180.0',\n",
       " 'PUlocationID=181.0',\n",
       " 'PUlocationID=182.0',\n",
       " 'PUlocationID=183.0',\n",
       " 'PUlocationID=184.0',\n",
       " 'PUlocationID=185.0',\n",
       " 'PUlocationID=186.0',\n",
       " 'PUlocationID=187.0',\n",
       " 'PUlocationID=188.0',\n",
       " 'PUlocationID=189.0',\n",
       " 'PUlocationID=19.0',\n",
       " 'PUlocationID=190.0',\n",
       " 'PUlocationID=191.0',\n",
       " 'PUlocationID=192.0',\n",
       " 'PUlocationID=193.0',\n",
       " 'PUlocationID=194.0',\n",
       " 'PUlocationID=195.0',\n",
       " 'PUlocationID=196.0',\n",
       " 'PUlocationID=197.0',\n",
       " 'PUlocationID=198.0',\n",
       " 'PUlocationID=2.0',\n",
       " 'PUlocationID=20.0',\n",
       " 'PUlocationID=200.0',\n",
       " 'PUlocationID=201.0',\n",
       " 'PUlocationID=202.0',\n",
       " 'PUlocationID=203.0',\n",
       " 'PUlocationID=204.0',\n",
       " 'PUlocationID=205.0',\n",
       " 'PUlocationID=206.0',\n",
       " 'PUlocationID=207.0',\n",
       " 'PUlocationID=208.0',\n",
       " 'PUlocationID=209.0',\n",
       " 'PUlocationID=21.0',\n",
       " 'PUlocationID=210.0',\n",
       " 'PUlocationID=211.0',\n",
       " 'PUlocationID=212.0',\n",
       " 'PUlocationID=213.0',\n",
       " 'PUlocationID=214.0',\n",
       " 'PUlocationID=215.0',\n",
       " 'PUlocationID=216.0',\n",
       " 'PUlocationID=217.0',\n",
       " 'PUlocationID=218.0',\n",
       " 'PUlocationID=219.0',\n",
       " 'PUlocationID=22.0',\n",
       " 'PUlocationID=220.0',\n",
       " 'PUlocationID=221.0',\n",
       " 'PUlocationID=222.0',\n",
       " 'PUlocationID=223.0',\n",
       " 'PUlocationID=224.0',\n",
       " 'PUlocationID=225.0',\n",
       " 'PUlocationID=226.0',\n",
       " 'PUlocationID=227.0',\n",
       " 'PUlocationID=228.0',\n",
       " 'PUlocationID=229.0',\n",
       " 'PUlocationID=23.0',\n",
       " 'PUlocationID=230.0',\n",
       " 'PUlocationID=231.0',\n",
       " 'PUlocationID=232.0',\n",
       " 'PUlocationID=233.0',\n",
       " 'PUlocationID=234.0',\n",
       " 'PUlocationID=235.0',\n",
       " 'PUlocationID=236.0',\n",
       " 'PUlocationID=237.0',\n",
       " 'PUlocationID=238.0',\n",
       " 'PUlocationID=239.0',\n",
       " 'PUlocationID=24.0',\n",
       " 'PUlocationID=240.0',\n",
       " 'PUlocationID=241.0',\n",
       " 'PUlocationID=242.0',\n",
       " 'PUlocationID=243.0',\n",
       " 'PUlocationID=244.0',\n",
       " 'PUlocationID=245.0',\n",
       " 'PUlocationID=246.0',\n",
       " 'PUlocationID=247.0',\n",
       " 'PUlocationID=248.0',\n",
       " 'PUlocationID=249.0',\n",
       " 'PUlocationID=25.0',\n",
       " 'PUlocationID=250.0',\n",
       " 'PUlocationID=251.0',\n",
       " 'PUlocationID=252.0',\n",
       " 'PUlocationID=253.0',\n",
       " 'PUlocationID=254.0',\n",
       " 'PUlocationID=255.0',\n",
       " 'PUlocationID=256.0',\n",
       " 'PUlocationID=257.0',\n",
       " 'PUlocationID=258.0',\n",
       " 'PUlocationID=259.0',\n",
       " 'PUlocationID=26.0',\n",
       " 'PUlocationID=260.0',\n",
       " 'PUlocationID=261.0',\n",
       " 'PUlocationID=262.0',\n",
       " 'PUlocationID=263.0',\n",
       " 'PUlocationID=264.0',\n",
       " 'PUlocationID=265.0',\n",
       " 'PUlocationID=27.0',\n",
       " 'PUlocationID=28.0',\n",
       " 'PUlocationID=29.0',\n",
       " 'PUlocationID=3.0',\n",
       " 'PUlocationID=30.0',\n",
       " 'PUlocationID=31.0',\n",
       " 'PUlocationID=32.0',\n",
       " 'PUlocationID=33.0',\n",
       " 'PUlocationID=34.0',\n",
       " 'PUlocationID=35.0',\n",
       " 'PUlocationID=36.0',\n",
       " 'PUlocationID=37.0',\n",
       " 'PUlocationID=38.0',\n",
       " 'PUlocationID=39.0',\n",
       " 'PUlocationID=4.0',\n",
       " 'PUlocationID=40.0',\n",
       " 'PUlocationID=41.0',\n",
       " 'PUlocationID=42.0',\n",
       " 'PUlocationID=43.0',\n",
       " 'PUlocationID=44.0',\n",
       " 'PUlocationID=45.0',\n",
       " 'PUlocationID=46.0',\n",
       " 'PUlocationID=47.0',\n",
       " 'PUlocationID=48.0',\n",
       " 'PUlocationID=49.0',\n",
       " 'PUlocationID=5.0',\n",
       " 'PUlocationID=50.0',\n",
       " 'PUlocationID=51.0',\n",
       " 'PUlocationID=52.0',\n",
       " 'PUlocationID=53.0',\n",
       " 'PUlocationID=54.0',\n",
       " 'PUlocationID=55.0',\n",
       " 'PUlocationID=56.0',\n",
       " 'PUlocationID=57.0',\n",
       " 'PUlocationID=58.0',\n",
       " 'PUlocationID=59.0',\n",
       " 'PUlocationID=6.0',\n",
       " 'PUlocationID=60.0',\n",
       " 'PUlocationID=61.0',\n",
       " 'PUlocationID=62.0',\n",
       " 'PUlocationID=63.0',\n",
       " 'PUlocationID=64.0',\n",
       " 'PUlocationID=65.0',\n",
       " 'PUlocationID=66.0',\n",
       " 'PUlocationID=67.0',\n",
       " 'PUlocationID=68.0',\n",
       " 'PUlocationID=69.0',\n",
       " 'PUlocationID=7.0',\n",
       " 'PUlocationID=70.0',\n",
       " 'PUlocationID=71.0',\n",
       " 'PUlocationID=72.0',\n",
       " 'PUlocationID=73.0',\n",
       " 'PUlocationID=74.0',\n",
       " 'PUlocationID=75.0',\n",
       " 'PUlocationID=76.0',\n",
       " 'PUlocationID=77.0',\n",
       " 'PUlocationID=78.0',\n",
       " 'PUlocationID=79.0',\n",
       " 'PUlocationID=8.0',\n",
       " 'PUlocationID=80.0',\n",
       " 'PUlocationID=81.0',\n",
       " 'PUlocationID=82.0',\n",
       " 'PUlocationID=83.0',\n",
       " 'PUlocationID=84.0',\n",
       " 'PUlocationID=85.0',\n",
       " 'PUlocationID=86.0',\n",
       " 'PUlocationID=87.0',\n",
       " 'PUlocationID=88.0',\n",
       " 'PUlocationID=89.0',\n",
       " 'PUlocationID=9.0',\n",
       " 'PUlocationID=90.0',\n",
       " 'PUlocationID=91.0',\n",
       " 'PUlocationID=92.0',\n",
       " 'PUlocationID=93.0',\n",
       " 'PUlocationID=94.0',\n",
       " 'PUlocationID=95.0',\n",
       " 'PUlocationID=96.0',\n",
       " 'PUlocationID=97.0',\n",
       " 'PUlocationID=98.0',\n",
       " 'PUlocationID=99.0']"
      ]
     },
     "execution_count": 19,
     "metadata": {},
     "output_type": "execute_result"
    }
   ],
   "source": [
    "dv.feature_names_"
   ]
  },
  {
   "cell_type": "code",
   "execution_count": 20,
   "id": "d39fe793",
   "metadata": {},
   "outputs": [
    {
     "data": {
      "text/plain": [
       "525"
      ]
     },
     "execution_count": 20,
     "metadata": {},
     "output_type": "execute_result"
    }
   ],
   "source": [
    "len(dv.feature_names_)"
   ]
  },
  {
   "cell_type": "markdown",
   "id": "6e4bf626",
   "metadata": {},
   "source": [
    "#### Q5. Training a model\n",
    "\n",
    "Now let's use the feature matrix from the previous step to train a model.\n",
    "\n",
    "Train a plain linear regression model with default parameters\n",
    "Calculate the RMSE of the model on the training data\n",
    "What's the RMSE on train?"
   ]
  },
  {
   "cell_type": "code",
   "execution_count": 21,
   "id": "05d136d5",
   "metadata": {},
   "outputs": [],
   "source": [
    "target = 'duration'\n",
    "y_train = df1[target].values"
   ]
  },
  {
   "cell_type": "code",
   "execution_count": 22,
   "id": "ba9cc833",
   "metadata": {},
   "outputs": [
    {
     "data": {
      "text/plain": [
       "10.528519107206316"
      ]
     },
     "execution_count": 22,
     "metadata": {},
     "output_type": "execute_result"
    }
   ],
   "source": [
    "lr = LinearRegression()\n",
    "lr.fit(X_train, y_train)\n",
    "\n",
    "y_pred = lr.predict(X_train)\n",
    "\n",
    "mean_squared_error(y_train, y_pred, squared=False)"
   ]
  },
  {
   "cell_type": "markdown",
   "id": "412ab5ae",
   "metadata": {},
   "source": [
    "#### Q6. Evaluating the model\n",
    "\n",
    "Now let's apply this model to the validation dataset (Feb 2021).\n",
    "\n",
    "What's the RMSE on validation?"
   ]
  },
  {
   "cell_type": "code",
   "execution_count": 23,
   "id": "b71f2977",
   "metadata": {},
   "outputs": [
    {
     "name": "stdout",
     "output_type": "stream",
     "text": [
      "<class 'pandas.core.frame.DataFrame'>\n",
      "RangeIndex: 1037692 entries, 0 to 1037691\n",
      "Data columns (total 7 columns):\n",
      " #   Column                  Non-Null Count    Dtype         \n",
      "---  ------                  --------------    -----         \n",
      " 0   dispatching_base_num    1037692 non-null  object        \n",
      " 1   pickup_datetime         1037692 non-null  datetime64[ns]\n",
      " 2   dropOff_datetime        1037692 non-null  datetime64[ns]\n",
      " 3   PUlocationID            153001 non-null   float64       \n",
      " 4   DOlocationID            885340 non-null   float64       \n",
      " 5   SR_Flag                 0 non-null        object        \n",
      " 6   Affiliated_base_number  1037692 non-null  object        \n",
      "dtypes: datetime64[ns](2), float64(2), object(3)\n",
      "memory usage: 55.4+ MB\n"
     ]
    }
   ],
   "source": [
    "df2 = pd.read_parquet('/home/rodrigoperes/notebooks/data/fhv_tripdata_2021-02.parquet')\n",
    "df2.info()"
   ]
  },
  {
   "cell_type": "code",
   "execution_count": 24,
   "id": "e6dd1722",
   "metadata": {},
   "outputs": [
    {
     "data": {
      "text/plain": [
       "20.70698622520125"
      ]
     },
     "execution_count": 24,
     "metadata": {},
     "output_type": "execute_result"
    }
   ],
   "source": [
    "df2['duration'] = df2['dropOff_datetime'] - df2['pickup_datetime']\n",
    "df2['duration'] = df2['duration'].apply(lambda td: td.total_seconds() / 60)\n",
    "df2['duration'].mean()"
   ]
  },
  {
   "cell_type": "code",
   "execution_count": 25,
   "id": "8633d116",
   "metadata": {},
   "outputs": [
    {
     "data": {
      "text/plain": [
       "(990113, 8)"
      ]
     },
     "execution_count": 25,
     "metadata": {},
     "output_type": "execute_result"
    }
   ],
   "source": [
    "df2 = df2[(df2.duration >= 1) & (df2.duration <= 60)]\n",
    "df2.shape"
   ]
  },
  {
   "cell_type": "code",
   "execution_count": 26,
   "id": "e70a0d2f",
   "metadata": {},
   "outputs": [],
   "source": [
    "df2['PUlocationID'].fillna(\"-1\", inplace=True)\n",
    "df2['DOlocationID'].fillna(\"-1\", inplace=True)"
   ]
  },
  {
   "cell_type": "code",
   "execution_count": 27,
   "id": "58061f87",
   "metadata": {},
   "outputs": [
    {
     "data": {
      "text/plain": [
       "85.71354986754037"
      ]
     },
     "execution_count": 27,
     "metadata": {},
     "output_type": "execute_result"
    }
   ],
   "source": [
    "100 * df2[df2['PUlocationID'] == '-1'].shape[0] / df2.shape[0]"
   ]
  },
  {
   "cell_type": "code",
   "execution_count": 28,
   "id": "57328e06",
   "metadata": {},
   "outputs": [],
   "source": [
    "df2[categorical] = df2[categorical].astype(str)"
   ]
  },
  {
   "cell_type": "code",
   "execution_count": 29,
   "id": "582d30ee",
   "metadata": {},
   "outputs": [],
   "source": [
    "val_dicts = df2[categorical].to_dict(orient='records')\n",
    "X_val = dv.transform(val_dicts)"
   ]
  },
  {
   "cell_type": "code",
   "execution_count": 30,
   "id": "df8acd6e",
   "metadata": {},
   "outputs": [],
   "source": [
    "target = 'duration'\n",
    "y_val = df2[target].values"
   ]
  },
  {
   "cell_type": "code",
   "execution_count": 31,
   "id": "89c0fc04",
   "metadata": {},
   "outputs": [
    {
     "data": {
      "text/plain": [
       "11.014283149347039"
      ]
     },
     "execution_count": 31,
     "metadata": {},
     "output_type": "execute_result"
    }
   ],
   "source": [
    "y_pred = lr.predict(X_val)\n",
    "\n",
    "mean_squared_error(y_val, y_pred, squared=False)"
   ]
  }
 ],
 "metadata": {
  "kernelspec": {
   "display_name": "Python 3 (ipykernel)",
   "language": "python",
   "name": "python3"
  },
  "language_info": {
   "codemirror_mode": {
    "name": "ipython",
    "version": 3
   },
   "file_extension": ".py",
   "mimetype": "text/x-python",
   "name": "python",
   "nbconvert_exporter": "python",
   "pygments_lexer": "ipython3",
   "version": "3.9.12"
  }
 },
 "nbformat": 4,
 "nbformat_minor": 5
}
