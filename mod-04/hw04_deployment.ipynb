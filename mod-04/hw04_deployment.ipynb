{
 "cells": [
  {
   "cell_type": "markdown",
   "id": "150afd57",
   "metadata": {},
   "source": [
    "# MLOps Zoomcamp Homework 4 \n",
    "\n",
    "The goal of this homework is to familiarize users with deploy models in batch mode\n",
    "\n",
    "- Module 4 Introduction  link: https://github.com/DataTalksClub/mlops-zoomcamp/tree/main/04-deployment"
   ]
  },
  {
   "cell_type": "markdown",
   "id": "3a3b1a7d",
   "metadata": {},
   "source": [
    "#### Q1. Notebook\n",
    "\n",
    "We'll start with the same notebook we ended up with in homework 1.\n",
    "\n",
    "We cleaned it a little bit and kept only the scoring part. Now it's in [homework/starter.ipynb](homework/starter.ipynb).\n",
    "\n",
    "Run this notebook for the February 2021 FVH data.\n",
    "\n",
    "What's the mean predicted duration for this dataset?\n",
    "\n",
    "* 11.19\n",
    "* 16.19\n",
    "* 21.19\n",
    "* 26.19"
   ]
  },
  {
   "cell_type": "code",
   "execution_count": 1,
   "id": "2c51efaa",
   "metadata": {},
   "outputs": [
    {
     "name": "stdout",
     "output_type": "stream",
     "text": [
      "scikit-learn==1.0.2\n"
     ]
    }
   ],
   "source": [
    "!pip freeze | grep scikit-learn"
   ]
  },
  {
   "cell_type": "code",
   "execution_count": 2,
   "id": "0ef880a0",
   "metadata": {},
   "outputs": [],
   "source": [
    "import pickle\n",
    "import numpy as np\n",
    "import pandas as pd"
   ]
  },
  {
   "cell_type": "code",
   "execution_count": 3,
   "id": "7836ccfd",
   "metadata": {},
   "outputs": [],
   "source": [
    "with open('/home/rodrigoperes/mlops-zoomcamp/04-deployment/homework/model.bin', 'rb') as f_in:\n",
    "    dv, lr = pickle.load(f_in)"
   ]
  },
  {
   "cell_type": "code",
   "execution_count": 4,
   "id": "41c08294",
   "metadata": {},
   "outputs": [],
   "source": [
    "categorical = ['PUlocationID', 'DOlocationID']\n",
    "\n",
    "def read_data(filename):\n",
    "    df = pd.read_parquet(filename)\n",
    "    \n",
    "    df['duration'] = df.dropOff_datetime - df.pickup_datetime\n",
    "    df['duration'] = df.duration.dt.total_seconds() / 60\n",
    "\n",
    "    df = df[(df.duration >= 1) & (df.duration <= 60)].copy()\n",
    "\n",
    "    df[categorical] = df[categorical].fillna(-1).astype('int').astype('str')\n",
    "    \n",
    "    return df"
   ]
  },
  {
   "cell_type": "code",
   "execution_count": 5,
   "id": "4854399a",
   "metadata": {},
   "outputs": [],
   "source": [
    "df = read_data('/home/rodrigoperes/notebooks/data/fhv_tripdata_2021-02.parquet')"
   ]
  },
  {
   "cell_type": "code",
   "execution_count": 6,
   "id": "669fda0a",
   "metadata": {},
   "outputs": [],
   "source": [
    "dicts = df[categorical].to_dict(orient='records')\n",
    "X_val = dv.transform(dicts)\n",
    "y_pred = lr.predict(X_val)"
   ]
  },
  {
   "cell_type": "code",
   "execution_count": 7,
   "id": "3358487e",
   "metadata": {},
   "outputs": [
    {
     "data": {
      "text/plain": [
       "array([14.53986486, 13.74042222, 15.59333908, ..., 15.83492293,\n",
       "       16.78317605, 19.65462607])"
      ]
     },
     "execution_count": 7,
     "metadata": {},
     "output_type": "execute_result"
    }
   ],
   "source": [
    "y_pred"
   ]
  },
  {
   "cell_type": "code",
   "execution_count": 8,
   "id": "2025b711",
   "metadata": {},
   "outputs": [
    {
     "data": {
      "text/plain": [
       "16.191691679979066"
      ]
     },
     "execution_count": 8,
     "metadata": {},
     "output_type": "execute_result"
    }
   ],
   "source": [
    "np.mean(y_pred)"
   ]
  },
  {
   "cell_type": "markdown",
   "id": "8e54cd61",
   "metadata": {},
   "source": [
    "My answer: 16.19"
   ]
  },
  {
   "cell_type": "markdown",
   "id": "4a340b43",
   "metadata": {},
   "source": [
    "#### Q2. Preparing the output\n",
    "\n",
    "Like in the course videos, we want to prepare the dataframe with the output. \n",
    "\n",
    "First, let's create an artificial `ride_id` column:\n",
    "\n",
    "```python\n",
    "df['ride_id'] = f'{year:04d}/{month:02d}_' + df.index.astype('str')\n",
    "```\n",
    "\n",
    "Next, write the ride id and the predictions to a dataframe with results. \n",
    "\n",
    "Save it as parquet:\n",
    "\n",
    "```python\n",
    "df_result.to_parquet(\n",
    "    output_file,\n",
    "    engine='pyarrow',\n",
    "    compression=None,\n",
    "    index=False\n",
    ")\n",
    "```\n",
    "\n",
    "What's the size of the output file?\n",
    "\n",
    "* 9M\n",
    "* 19M\n",
    "* 29M\n",
    "* 39M\n",
    "\n",
    "Make sure you use the snippet above for saving the file. It should contain only these two columns. For this question, don't change the\n",
    "dtypes of the columns and use pyarrow, not fastparquet. "
   ]
  },
  {
   "cell_type": "code",
   "execution_count": 12,
   "id": "6f2c238b",
   "metadata": {},
   "outputs": [],
   "source": [
    "year = 2021\n",
    "month = 2\n",
    "\n",
    "df['ride_id'] = f'{year:04d}/{month:02d}_' + df.index.astype('str')"
   ]
  },
  {
   "cell_type": "code",
   "execution_count": 13,
   "id": "0288d3be",
   "metadata": {},
   "outputs": [],
   "source": [
    "df['predictions'] = y_pred"
   ]
  },
  {
   "cell_type": "code",
   "execution_count": 14,
   "id": "df19ad55",
   "metadata": {},
   "outputs": [],
   "source": [
    "df_results = df[['ride_id', 'predictions']]"
   ]
  },
  {
   "cell_type": "code",
   "execution_count": 16,
   "id": "d4c66d9f",
   "metadata": {},
   "outputs": [],
   "source": [
    "output_file = \"hw04_files/ride_duration_predictions.parquet\"\n",
    "\n",
    "df_results.to_parquet(\n",
    "    output_file,\n",
    "    engine='pyarrow',\n",
    "    compression=None,\n",
    "    index=False\n",
    ")"
   ]
  },
  {
   "cell_type": "code",
   "execution_count": 19,
   "id": "12d1d7d2",
   "metadata": {},
   "outputs": [],
   "source": [
    "!cd hw04_files/"
   ]
  },
  {
   "cell_type": "code",
   "execution_count": 20,
   "id": "c47cdac1",
   "metadata": {},
   "outputs": [
    {
     "name": "stdout",
     "output_type": "stream",
     "text": [
      "-rw-rw-r-- 1 rodrigoperes rodrigoperes  2384 Jun 12 19:23 homework.py\n",
      "-rw-rw-r-- 1 rodrigoperes rodrigoperes 15676 May 22 22:32 hw01_intro.ipynb\n",
      "-rw-rw-r-- 1 rodrigoperes rodrigoperes 10743 May 29 22:59 hw02_exp_tracking.ipynb\n",
      "-rw-rw-r-- 1 rodrigoperes rodrigoperes 11302 Jun 26 15:34 hw03_orchestration.ipynb\n",
      "-rw-rw-r-- 1 rodrigoperes rodrigoperes 11302 Jun 27 00:00 hw04_deployment.ipynb\n",
      "\n",
      "hw04_data:\n",
      "total 19252\n",
      "-rw-rw-r-- 1 rodrigoperes rodrigoperes 19711440 Jun 27 00:19 ride_duration_predictions.parquet\n",
      "\n",
      "mlruns:\n",
      "total 4\n",
      "drwxrwxr-x 2 rodrigoperes rodrigoperes 4096 May 29 22:38 \u001b[0m\u001b[01;34m0\u001b[0m/\n"
     ]
    }
   ],
   "source": [
    "!ls -l *"
   ]
  },
  {
   "cell_type": "markdown",
   "id": "d3df16b4",
   "metadata": {},
   "source": [
    "My answer: 19M"
   ]
  },
  {
   "cell_type": "markdown",
   "id": "ad3d5b5e",
   "metadata": {},
   "source": [
    "#### Q3. Creating the scoring script\n",
    "\n",
    "Now let's turn the notebook into a script. \n",
    "\n",
    "Which command you need to execute for that?"
   ]
  },
  {
   "cell_type": "markdown",
   "id": "36d92099",
   "metadata": {},
   "source": [
    "My answer: jupyter nbconvert --to script starter.ipynb"
   ]
  },
  {
   "cell_type": "markdown",
   "id": "d8ec7c92",
   "metadata": {},
   "source": [
    "#### Q4. Virtual environment\n",
    "\n",
    "Now let's put everything into a virtual environment. We'll use pipenv for that.\n",
    "\n",
    "Install all the required libraries. Pay attention to the Scikit-Learn version:\n",
    "check the starter notebook for details. \n",
    "\n",
    "After installing the libraries, pipenv creates two files: `Pipfile`\n",
    "and `Pipfile.lock`. The `Pipfile.lock` file keeps the hashes of the\n",
    "dependencies we use for the virtual env.\n",
    "\n",
    "What's the first hash for the Scikit-Learn dependency?"
   ]
  },
  {
   "cell_type": "markdown",
   "id": "5134ec19",
   "metadata": {},
   "source": [
    "My answer: sha256:08ef968f6b72033c16c479c966bf37ccd49b06ea91b765e1cc27afefe723920b"
   ]
  },
  {
   "cell_type": "markdown",
   "id": "340b57a1",
   "metadata": {},
   "source": [
    "#### Q5. Parametrize the script\n",
    "\n",
    "Let's now make the script configurable via CLI. We'll create two \n",
    "parameters: year and month.\n",
    "\n",
    "Run the script for March 2021. \n",
    "\n",
    "What's the mean predicted duration? \n",
    "\n",
    "* 11.29\n",
    "* 16.29\n",
    "* 21.29\n",
    "* 26.29\n",
    "\n",
    "Hint: just add a print statement to your script."
   ]
  },
  {
   "cell_type": "markdown",
   "id": "1dc81c36",
   "metadata": {},
   "source": [
    "!wget https://nyc-tlc.s3.amazonaws.com/trip+data/fhv_tripdata_2021-03.parquet"
   ]
  },
  {
   "cell_type": "markdown",
   "id": "f8aa026e",
   "metadata": {},
   "source": [
    "!python starter.py 2021 03"
   ]
  },
  {
   "cell_type": "markdown",
   "id": "c9b89f79",
   "metadata": {},
   "source": [
    "Mean ride duration predictions 16.298821614015107"
   ]
  },
  {
   "cell_type": "markdown",
   "id": "4c1d54fd",
   "metadata": {},
   "source": [
    "My answer: 16.29"
   ]
  },
  {
   "cell_type": "markdown",
   "id": "4c3ec3b4",
   "metadata": {},
   "source": [
    "#### Q6. Docker contaner \n",
    "\n",
    "Finally, we'll package the script in the docker container. \n",
    "For that, you'll need to use a base image that we prepared. \n",
    "\n",
    "This is how it looks like:\n",
    "\n",
    "```\n",
    "FROM python:3.9.7-slim\n",
    "\n",
    "WORKDIR /app\n",
    "COPY [ \"model2.bin\", \"model.bin\" ]\n",
    "```\n",
    "\n",
    "(see [`homework/Dockerfile`](homework/Dockerfile))\n",
    "\n",
    "We pushed it to [`agrigorev/zoomcamp-model:mlops-3.9.7-slim`](https://hub.docker.com/layers/zoomcamp-model/agrigorev/zoomcamp-model/mlops-3.9.7-slim/images/sha256-7fac33c783cc6018356ce16a4b408f6c977b55a4df52bdb6c4d0215edf83af5d?context=explore),\n",
    "which you should use as your base image.\n",
    "\n",
    "That is, this is how your Dockerfile should start:\n",
    "\n",
    "```docker\n",
    "FROM agrigorev/zoomcamp-model:mlops-3.9.7-slim\n",
    "\n",
    "# do stuff here\n",
    "```\n",
    "\n",
    "This image already has a pickle file with a dictionary vectorizer\n",
    "and a model. You will need to use them.\n",
    "\n",
    "Important: don't copy the model to the docker image. You will need\n",
    "to use the pickle file already in the image. \n",
    "\n",
    "Now run the script with docker. What's the mean predicted duration\n",
    "for April 2021? \n",
    "\n",
    "\n",
    "* 9.96\n",
    "* 16.55\n",
    "* 25.96\n",
    "* 36.55"
   ]
  },
  {
   "cell_type": "markdown",
   "id": "5d88efb1",
   "metadata": {},
   "source": [
    "FROM agrigorev/zoomcamp-model:mlops-3.9.7-slim\n",
    "\n",
    "RUN pip install -U pip\n",
    "RUN pip install pipenv \n",
    "\n",
    "WORKDIR /app\n",
    "\n",
    "COPY [ \"Pipfile\", \"Pipfile.lock\", \"./\" ]\n",
    "\n",
    "RUN pipenv install --system --deploy\n",
    "\n",
    "COPY [ \"starter.py\", \"./\" ]\n",
    "\n",
    "COPY [ \"fhv_tripdata_2021-04.parquet\", \"./\" ]\n",
    "\n",
    "RUN python starter.py 2021 04"
   ]
  },
  {
   "cell_type": "markdown",
   "id": "1426cbd7",
   "metadata": {},
   "source": [
    "Mean ride duration predictions 9.967573179784523"
   ]
  },
  {
   "cell_type": "markdown",
   "id": "3b20976e",
   "metadata": {},
   "source": [
    "My answer: 9.96"
   ]
  }
 ],
 "metadata": {
  "kernelspec": {
   "display_name": "Python 3.9.12 ('web-service-GZFEXo3p': pipenv)",
   "language": "python",
   "name": "python3"
  },
  "language_info": {
   "codemirror_mode": {
    "name": "ipython",
    "version": 3
   },
   "file_extension": ".py",
   "mimetype": "text/x-python",
   "name": "python",
   "nbconvert_exporter": "python",
   "pygments_lexer": "ipython3",
   "version": "3.9.12"
  },
  "vscode": {
   "interpreter": {
    "hash": "4f4bafd52cd53d7e99a0911b193b78cb724944ffd1c14660aba9a65983cd8ab7"
   }
  }
 },
 "nbformat": 4,
 "nbformat_minor": 5
}
