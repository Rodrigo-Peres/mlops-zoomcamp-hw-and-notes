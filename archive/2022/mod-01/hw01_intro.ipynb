{
 "cells": [
  {
   "cell_type": "markdown",
   "id": "150afd57",
   "metadata": {},
   "source": [
    "# MLOps Zoomcamp Homework 1\n",
    "\n",
    "The goal of this homework is to train a simple model for predicting the duration of a ride.\n",
    "\n",
    "- Module 1 Introduction  link: https://github.com/DataTalksClub/mlops-zoomcamp/tree/main/01-intro"
   ]
  },
  {
   "cell_type": "code",
   "execution_count": 1,
   "id": "e7c35378",
   "metadata": {},
   "outputs": [],
   "source": [
    "#!pip install pyarrow"
   ]
  },
  {
   "cell_type": "code",
   "execution_count": 2,
   "id": "1c1880d3",
   "metadata": {},
   "outputs": [],
   "source": [
    "import pandas as pd\n",
    "import pickle\n",
    "import numpy as np\n",
    "import seaborn as sns\n",
    "import matplotlib.pyplot as plt\n",
    "\n",
    "from sklearn.feature_extraction import DictVectorizer\n",
    "from sklearn.linear_model import LinearRegression\n",
    "from sklearn.metrics import mean_squared_error"
   ]
  },
  {
   "cell_type": "code",
   "execution_count": 3,
   "id": "0fc2bc7b",
   "metadata": {
    "scrolled": true
   },
   "outputs": [
    {
     "name": "stdout",
     "output_type": "stream",
     "text": [
      "<class 'pandas.core.frame.DataFrame'>\n",
      "RangeIndex: 1154112 entries, 0 to 1154111\n",
      "Data columns (total 7 columns):\n",
      " #   Column                  Non-Null Count    Dtype         \n",
      "---  ------                  --------------    -----         \n",
      " 0   dispatching_base_num    1154112 non-null  object        \n",
      " 1   pickup_datetime         1154112 non-null  datetime64[ns]\n",
      " 2   dropOff_datetime        1154112 non-null  datetime64[ns]\n",
      " 3   PUlocationID            195845 non-null   float64       \n",
      " 4   DOlocationID            991892 non-null   float64       \n",
      " 5   SR_Flag                 0 non-null        object        \n",
      " 6   Affiliated_base_number  1153227 non-null  object        \n",
      "dtypes: datetime64[ns](2), float64(2), object(3)\n",
      "memory usage: 61.6+ MB\n"
     ]
    }
   ],
   "source": [
    "df1 = pd.read_parquet('/home/rodrigoperes/notebooks/data/fhv_tripdata_2021-01.parquet')\n",
    "df1.info()"
   ]
  },
  {
   "cell_type": "markdown",
   "id": "e6421bad",
   "metadata": {},
   "source": [
    "#### Q1. Downloading the data\n",
    "\n",
    "We'll use the same NYC taxi dataset, but instead of \"Green Taxi Trip Records\", we'll use \"For-Hire Vehicle Trip Records\".\n",
    "\n",
    "Download the data for January and February 2021.\n",
    "\n",
    "Note that you need \"For-Hire Vehicle Trip Records\", not \"High Volume For-Hire Vehicle Trip Records\".\n",
    "\n",
    "Read the data for January. How many records are there?"
   ]
  },
  {
   "cell_type": "code",
   "execution_count": 4,
   "id": "974daa94",
   "metadata": {},
   "outputs": [
    {
     "data": {
      "text/plain": [
       "(1154112, 7)"
      ]
     },
     "execution_count": 4,
     "metadata": {},
     "output_type": "execute_result"
    }
   ],
   "source": [
    "df1.shape"
   ]
  },
  {
   "cell_type": "markdown",
   "id": "ee206226",
   "metadata": {},
   "source": [
    "#### Q2. Computing duration\n",
    "\n",
    "Now let's compute the duration variable. It should contain the duration of a ride in minutes.\n",
    "\n",
    "What's the average trip duration in January?"
   ]
  },
  {
   "cell_type": "code",
   "execution_count": 5,
   "id": "d5966e1d",
   "metadata": {},
   "outputs": [],
   "source": [
    "df1['duration'] = df1['dropOff_datetime'] - df1['pickup_datetime']\n",
    "df1['duration'] = df1['duration'].apply(lambda td: td.total_seconds() / 60)"
   ]
  },
  {
   "cell_type": "code",
   "execution_count": 6,
   "id": "c1dba9ce",
   "metadata": {},
   "outputs": [
    {
     "data": {
      "text/plain": [
       "19.1672240937939"
      ]
     },
     "execution_count": 6,
     "metadata": {},
     "output_type": "execute_result"
    }
   ],
   "source": [
    "df1['duration'].mean()"
   ]
  },
  {
   "cell_type": "code",
   "execution_count": 7,
   "id": "c2c85154",
   "metadata": {},
   "outputs": [
    {
     "data": {
      "text/plain": [
       "(1109826, 8)"
      ]
     },
     "execution_count": 7,
     "metadata": {},
     "output_type": "execute_result"
    }
   ],
   "source": [
    "df1 = df1[(df1.duration >= 1) & (df1.duration <= 60)]\n",
    "df1.shape"
   ]
  },
  {
   "cell_type": "code",
   "execution_count": 8,
   "id": "b37ab016",
   "metadata": {},
   "outputs": [
    {
     "data": {
      "text/plain": [
       "44286"
      ]
     },
     "execution_count": 8,
     "metadata": {},
     "output_type": "execute_result"
    }
   ],
   "source": [
    "1154112 - 1109826"
   ]
  },
  {
   "cell_type": "markdown",
   "id": "74998bb2",
   "metadata": {},
   "source": [
    "#### Q3. Missing values\n",
    "\n",
    "The features we'll use for our model are the pickup and dropoff location IDs.\n",
    "\n",
    "But they have a lot of missing values there. Let's replace them with \"-1\".\n",
    "\n",
    "What's the fractions of missing values for the pickup location ID? I.e. fraction of \"-1\"s after you filled the NAs."
   ]
  },
  {
   "cell_type": "code",
   "execution_count": 9,
   "id": "38ed208b",
   "metadata": {},
   "outputs": [],
   "source": [
    "df1['PUlocationID'].fillna(\"-1\", inplace=True)\n",
    "df1['DOlocationID'].fillna(\"-1\", inplace=True)"
   ]
  },
  {
   "cell_type": "code",
   "execution_count": 10,
   "id": "4ea5ec82",
   "metadata": {},
   "outputs": [
    {
     "data": {
      "text/plain": [
       "(1109826, 8)"
      ]
     },
     "execution_count": 10,
     "metadata": {},
     "output_type": "execute_result"
    }
   ],
   "source": [
    "df1.shape"
   ]
  },
  {
   "cell_type": "code",
   "execution_count": 11,
   "id": "6ceae088",
   "metadata": {},
   "outputs": [
    {
     "data": {
      "text/plain": [
       "(927008, 8)"
      ]
     },
     "execution_count": 11,
     "metadata": {},
     "output_type": "execute_result"
    }
   ],
   "source": [
    "df1[df1['PUlocationID'] == '-1'].shape"
   ]
  },
  {
   "cell_type": "code",
   "execution_count": 12,
   "id": "08cdf5d1",
   "metadata": {
    "scrolled": true
   },
   "outputs": [
    {
     "data": {
      "text/plain": [
       "83.52732770722618"
      ]
     },
     "execution_count": 12,
     "metadata": {},
     "output_type": "execute_result"
    }
   ],
   "source": [
    "100 * df1[df1['PUlocationID'] == '-1'].shape[0] / df1.shape[0]"
   ]
  },
  {
   "cell_type": "markdown",
   "id": "9beb62e2",
   "metadata": {},
   "source": [
    "#### Q4. One-hot encoding\n",
    "\n",
    "Let's apply one-hot encoding to the pickup and dropoff location IDs. We'll use only these two features for our model.\n",
    "\n",
    "- Turn the dataframe into a list of dictionaries\n",
    "- Fit a dictionary vectorizer\n",
    "- Get a feature matrix from it\n",
    "\n",
    "What's the dimensionality of this matrix? (The number of columns)."
   ]
  },
  {
   "cell_type": "code",
   "execution_count": 13,
   "id": "66157e56",
   "metadata": {},
   "outputs": [],
   "source": [
    "categorical = ['PUlocationID', 'DOlocationID']"
   ]
  },
  {
   "cell_type": "code",
   "execution_count": 14,
   "id": "7bfb5c7a",
   "metadata": {
    "scrolled": true
   },
   "outputs": [
    {
     "data": {
      "text/plain": [
       "-1       927008\n",
       "221.0      8330\n",
       "206.0      6797\n",
       "129.0      5379\n",
       "115.0      4082\n",
       "          ...  \n",
       "111.0         5\n",
       "27.0          4\n",
       "34.0          3\n",
       "2.0           2\n",
       "110.0         1\n",
       "Name: PUlocationID, Length: 262, dtype: int64"
      ]
     },
     "execution_count": 14,
     "metadata": {},
     "output_type": "execute_result"
    }
   ],
   "source": [
    "df1['PUlocationID'].value_counts(dropna=False)"
   ]
  },
  {
   "cell_type": "code",
   "execution_count": 15,
   "id": "ea672bf4",
   "metadata": {
    "scrolled": false
   },
   "outputs": [
    {
     "data": {
      "text/plain": [
       "-1       147907\n",
       "76.0      26375\n",
       "217.0     19488\n",
       "265.0     18628\n",
       "17.0      18422\n",
       "          ...  \n",
       "27.0         18\n",
       "30.0         13\n",
       "2.0          11\n",
       "105.0         4\n",
       "199.0         1\n",
       "Name: DOlocationID, Length: 263, dtype: int64"
      ]
     },
     "execution_count": 15,
     "metadata": {},
     "output_type": "execute_result"
    }
   ],
   "source": [
    "df1['DOlocationID'].value_counts(dropna=False)"
   ]
  },
  {
   "cell_type": "code",
   "execution_count": 16,
   "id": "8f7a488a",
   "metadata": {},
   "outputs": [],
   "source": [
    "df1[categorical] = df1[categorical].astype(str)"
   ]
  },
  {
   "cell_type": "code",
   "execution_count": 17,
   "id": "7910235d",
   "metadata": {},
   "outputs": [],
   "source": [
    "train_dicts = df1[categorical].to_dict(orient='records')\n",
    "\n",
    "dv = DictVectorizer()\n",
    "X_train = dv.fit_transform(train_dicts)"
   ]
  },
  {
   "cell_type": "code",
   "execution_count": 18,
   "id": "7dee8502",
   "metadata": {},
   "outputs": [
    {
     "data": {
      "text/plain": [
       "<1109826x525 sparse matrix of type '<class 'numpy.float64'>'\n",
       "\twith 2219652 stored elements in Compressed Sparse Row format>"
      ]
     },
     "execution_count": 18,
     "metadata": {},
     "output_type": "execute_result"
    }
   ],
   "source": [
    "X_train"
   ]
  },
  {
   "cell_type": "code",
   "execution_count": 19,
   "id": "d39fe793",
   "metadata": {},
   "outputs": [
    {
     "data": {
      "text/plain": [
       "525"
      ]
     },
     "execution_count": 19,
     "metadata": {},
     "output_type": "execute_result"
    }
   ],
   "source": [
    "len(dv.feature_names_)"
   ]
  },
  {
   "cell_type": "markdown",
   "id": "6e4bf626",
   "metadata": {},
   "source": [
    "#### Q5. Training a model\n",
    "\n",
    "Now let's use the feature matrix from the previous step to train a model.\n",
    "\n",
    "Train a plain linear regression model with default parameters\n",
    "Calculate the RMSE of the model on the training data\n",
    "What's the RMSE on train?"
   ]
  },
  {
   "cell_type": "code",
   "execution_count": 20,
   "id": "05d136d5",
   "metadata": {},
   "outputs": [],
   "source": [
    "target = 'duration'\n",
    "y_train = df1[target].values"
   ]
  },
  {
   "cell_type": "code",
   "execution_count": 21,
   "id": "ba9cc833",
   "metadata": {},
   "outputs": [
    {
     "data": {
      "text/plain": [
       "10.528519107206316"
      ]
     },
     "execution_count": 21,
     "metadata": {},
     "output_type": "execute_result"
    }
   ],
   "source": [
    "lr = LinearRegression()\n",
    "lr.fit(X_train, y_train)\n",
    "\n",
    "y_pred = lr.predict(X_train)\n",
    "\n",
    "mean_squared_error(y_train, y_pred, squared=False)"
   ]
  },
  {
   "cell_type": "markdown",
   "id": "412ab5ae",
   "metadata": {},
   "source": [
    "#### Q6. Evaluating the model\n",
    "\n",
    "Now let's apply this model to the validation dataset (Feb 2021).\n",
    "\n",
    "What's the RMSE on validation?"
   ]
  },
  {
   "cell_type": "code",
   "execution_count": 22,
   "id": "b71f2977",
   "metadata": {},
   "outputs": [
    {
     "name": "stdout",
     "output_type": "stream",
     "text": [
      "<class 'pandas.core.frame.DataFrame'>\n",
      "RangeIndex: 1037692 entries, 0 to 1037691\n",
      "Data columns (total 7 columns):\n",
      " #   Column                  Non-Null Count    Dtype         \n",
      "---  ------                  --------------    -----         \n",
      " 0   dispatching_base_num    1037692 non-null  object        \n",
      " 1   pickup_datetime         1037692 non-null  datetime64[ns]\n",
      " 2   dropOff_datetime        1037692 non-null  datetime64[ns]\n",
      " 3   PUlocationID            153001 non-null   float64       \n",
      " 4   DOlocationID            885340 non-null   float64       \n",
      " 5   SR_Flag                 0 non-null        object        \n",
      " 6   Affiliated_base_number  1037692 non-null  object        \n",
      "dtypes: datetime64[ns](2), float64(2), object(3)\n",
      "memory usage: 55.4+ MB\n"
     ]
    }
   ],
   "source": [
    "df2 = pd.read_parquet('/home/rodrigoperes/notebooks/data/fhv_tripdata_2021-02.parquet')\n",
    "df2.info()"
   ]
  },
  {
   "cell_type": "code",
   "execution_count": 23,
   "id": "e6dd1722",
   "metadata": {},
   "outputs": [
    {
     "data": {
      "text/plain": [
       "20.70698622520125"
      ]
     },
     "execution_count": 23,
     "metadata": {},
     "output_type": "execute_result"
    }
   ],
   "source": [
    "df2['duration'] = df2['dropOff_datetime'] - df2['pickup_datetime']\n",
    "df2['duration'] = df2['duration'].apply(lambda td: td.total_seconds() / 60)\n",
    "df2['duration'].mean()"
   ]
  },
  {
   "cell_type": "code",
   "execution_count": 24,
   "id": "8633d116",
   "metadata": {},
   "outputs": [
    {
     "data": {
      "text/plain": [
       "(990113, 8)"
      ]
     },
     "execution_count": 24,
     "metadata": {},
     "output_type": "execute_result"
    }
   ],
   "source": [
    "df2 = df2[(df2.duration >= 1) & (df2.duration <= 60)]\n",
    "df2.shape"
   ]
  },
  {
   "cell_type": "code",
   "execution_count": 25,
   "id": "e70a0d2f",
   "metadata": {},
   "outputs": [],
   "source": [
    "df2['PUlocationID'].fillna(\"-1\", inplace=True)\n",
    "df2['DOlocationID'].fillna(\"-1\", inplace=True)"
   ]
  },
  {
   "cell_type": "code",
   "execution_count": 26,
   "id": "58061f87",
   "metadata": {},
   "outputs": [
    {
     "data": {
      "text/plain": [
       "85.71354986754037"
      ]
     },
     "execution_count": 26,
     "metadata": {},
     "output_type": "execute_result"
    }
   ],
   "source": [
    "100 * df2[df2['PUlocationID'] == '-1'].shape[0] / df2.shape[0]"
   ]
  },
  {
   "cell_type": "code",
   "execution_count": 27,
   "id": "57328e06",
   "metadata": {},
   "outputs": [],
   "source": [
    "df2[categorical] = df2[categorical].astype(str)"
   ]
  },
  {
   "cell_type": "code",
   "execution_count": 28,
   "id": "582d30ee",
   "metadata": {},
   "outputs": [],
   "source": [
    "val_dicts = df2[categorical].to_dict(orient='records')\n",
    "X_val = dv.transform(val_dicts)"
   ]
  },
  {
   "cell_type": "code",
   "execution_count": 29,
   "id": "df8acd6e",
   "metadata": {},
   "outputs": [],
   "source": [
    "target = 'duration'\n",
    "y_val = df2[target].values"
   ]
  },
  {
   "cell_type": "code",
   "execution_count": 30,
   "id": "89c0fc04",
   "metadata": {},
   "outputs": [
    {
     "data": {
      "text/plain": [
       "11.014283149347039"
      ]
     },
     "execution_count": 30,
     "metadata": {},
     "output_type": "execute_result"
    }
   ],
   "source": [
    "y_pred = lr.predict(X_val)\n",
    "\n",
    "mean_squared_error(y_val, y_pred, squared=False)"
   ]
  }
 ],
 "metadata": {
  "kernelspec": {
   "display_name": "Python 3 (ipykernel)",
   "language": "python",
   "name": "python3"
  },
  "language_info": {
   "codemirror_mode": {
    "name": "ipython",
    "version": 3
   },
   "file_extension": ".py",
   "mimetype": "text/x-python",
   "name": "python",
   "nbconvert_exporter": "python",
   "pygments_lexer": "ipython3",
   "version": "3.9.12"
  }
 },
 "nbformat": 4,
 "nbformat_minor": 5
}
